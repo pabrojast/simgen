{
 "cells": [
  {
   "cell_type": "markdown",
   "metadata": {},
   "source": [
    "# WEAP desde simgen"
   ]
  },
  {
   "cell_type": "code",
   "execution_count": 1,
   "metadata": {},
   "outputs": [
    {
     "data": {
      "text/plain": [
       "' NOTA, LAS ESTACIONES DEBEN ESTAR EN EL SIGUIENTE ORDEN\\n\"caren.csv_formateado.csv\" 2000\\n\"cogoti18.csv_formateado.csv\" 2001\\n\"eltome.csv_formateado.csv\" 2002\\n\"lasramadas.csv_formateado.csv\" 2003\\n\"OvalleDGA.csv_formateado.csv\" 2004\\n\"pabellon.csv_formateado.csv\" 2005\\n\"palomaembalse.csv_formateado.csv\" 2006\\n\"punitaqui.csv_formateado.csv\" 2007\\n\"rapel.csv_formateado.csv\" 2008\\n\"recoletaembalse.csv_formateado.csv\" 2009\\n\"tascadero.csv_formateado.csv\" 2010\\n\"caren.csv_formateado.csv\" 2000\\n\"cogoti18.csv_formateado.csv\" 2001\\n\"eltome.csv_formateado.csv\" 2002\\n\"lasramadas.csv_formateado.csv\" 2003\\n\"OvalleDGA.csv_formateado.csv\" 2004\\n\"pabellon.csv_formateado.csv\" 2005\\n\"palomaembalse.csv_formateado.csv\" 2006\\n\"punitaqui.csv_formateado.csv\" 2007\\n\"rapel.csv_formateado.csv\" 2008\\n\"recoletaembalse.csv_formateado.csv\" 2009\\n\"tascadero.csv_formateado.csv\" 2010\\n'"
      ]
     },
     "execution_count": 1,
     "metadata": {},
     "output_type": "execute_result"
    }
   ],
   "source": [
    "import win32com.client #Libreria para poder usar win32com\n",
    "import numpy as np\n",
    "import glob, os\n",
    "import pandas as pd\n",
    "import matplotlib.pyplot as plt\n",
    "import re\n",
    "#funcion que elimina duplicados\n",
    "def remove_duplicates(l):\n",
    "    return list(set(l))\n",
    "def existedir(directory):\n",
    "    if not os.path.exists(directory):\n",
    "        os.makedirs(directory)\n",
    "''' NOTA, LAS ESTACIONES DEBEN ESTAR EN EL SIGUIENTE ORDEN\n",
    "\"caren.csv_formateado.csv\" 2000\n",
    "\"cogoti18.csv_formateado.csv\" 2001\n",
    "\"eltome.csv_formateado.csv\" 2002\n",
    "\"lasramadas.csv_formateado.csv\" 2003\n",
    "\"OvalleDGA.csv_formateado.csv\" 2004\n",
    "\"pabellon.csv_formateado.csv\" 2005\n",
    "\"palomaembalse.csv_formateado.csv\" 2006\n",
    "\"punitaqui.csv_formateado.csv\" 2007\n",
    "\"rapel.csv_formateado.csv\" 2008\n",
    "\"recoletaembalse.csv_formateado.csv\" 2009\n",
    "\"tascadero.csv_formateado.csv\" 2010\n",
    "\"caren.csv_formateado.csv\" 2000\n",
    "\"cogoti18.csv_formateado.csv\" 2001\n",
    "\"eltome.csv_formateado.csv\" 2002\n",
    "\"lasramadas.csv_formateado.csv\" 2003\n",
    "\"OvalleDGA.csv_formateado.csv\" 2004\n",
    "\"pabellon.csv_formateado.csv\" 2005\n",
    "\"palomaembalse.csv_formateado.csv\" 2006\n",
    "\"punitaqui.csv_formateado.csv\" 2007\n",
    "\"rapel.csv_formateado.csv\" 2008\n",
    "\"recoletaembalse.csv_formateado.csv\" 2009\n",
    "\"tascadero.csv_formateado.csv\" 2010\n",
    "'''"
   ]
  },
  {
   "cell_type": "code",
   "execution_count": 5,
   "metadata": {},
   "outputs": [],
   "source": [
    "###config###\n",
    "#path: directorio con archivos en formato para weap, sin / al final\n",
    "#cambiar 25 por el percentil que se desee calcular\n",
    "#pathdatosWEAP: directorio de datos de WEAP, sin / al final\n",
    "path = \"C:/Users/Pablo/Dropbox/cazalac/Simgen-Limari v2/simgen/output_sim/mensual/\"\n",
    "#path = \"C:/Users/Pablo/Dropbox/cazalac/simgen_v3/output_sim/mensual/\"\n",
    "percentiles = ['10','50','95']\n",
    "#percentiles = ['1','2','3','4','5','8','10','15','25','50','75','85','90','96','97','98','99']\n",
    "pathdatosWEAP = \"C:/Users/Pablo/Documents/WEAP Areas/Cuenca del Limari_V1/Datos\"\n",
    "salidaweap =\"C:/Users/Pablo/Desktop/WEAP/salida\" #donde se guardarán los resultados de weap\n",
    "#abrir weap\n",
    "WEAP=win32com.client.Dispatch(\"WEAP.WEAPApplication\")\n",
    "#modelo\n",
    "WEAP.ActiveArea = \"Cuenca del Limari_V1\"\n",
    "#inicio de archivo de weap\n",
    "ListSeparator='$ListSeparator=,'"
   ]
  },
  {
   "cell_type": "code",
   "execution_count": 12,
   "metadata": {
    "scrolled": true
   },
   "outputs": [
    {
     "name": "stdout",
     "output_type": "stream",
     "text": [
      "0\n",
      "C:/Users/Pablo/Dropbox/cazalac/Simgen-Limari v2/simgen/output_sim/mensual/10\n",
      "['graficov2.R', 'promedios_futuros_simgen.R', 'R', 'resumen', 'resumen-salida-simgen.ipynb', 'Untitled1.ipynb', 'WEAP (2).ipynb', 'weap-malla.ipynb', 'WEAP.ipynb']\n",
      "[]\n",
      "1\n",
      "C:/Users/Pablo/Dropbox/cazalac/Simgen-Limari v2/simgen/output_sim/mensual/50\n",
      "['graficov2.R', 'promedios_futuros_simgen.R', 'R', 'resumen', 'resumen-salida-simgen.ipynb', 'Untitled1.ipynb', 'WEAP (2).ipynb', 'weap-malla.ipynb', 'WEAP.ipynb']\n",
      "[]\n",
      "2\n",
      "C:/Users/Pablo/Dropbox/cazalac/Simgen-Limari v2/simgen/output_sim/mensual/95\n",
      "['graficov2.R', 'promedios_futuros_simgen.R', 'R', 'resumen', 'resumen-salida-simgen.ipynb', 'Untitled1.ipynb', 'WEAP (2).ipynb', 'weap-malla.ipynb', 'WEAP.ipynb']\n",
      "[]\n"
     ]
    }
   ],
   "source": [
    "for nn in range(0,len(percentiles)):\n",
    "    print nn\n",
    "    existedir(path)\n",
    "    existedir(path+percentiles[nn])\n",
    "    print path+percentiles[nn]\n",
    "    #generamos una nueva lista\n",
    "    simt=[]\n",
    "    fix=1 #para generar el index con el primer archivo\n",
    "    #usamos las pp para generar el index\n",
    "    print glob.glob(\"*\")\n",
    "    print glob.glob(\"pp_*.csv\")\n",
    "    for file in glob.glob(\"pp_*.csv\"):\n",
    "        simt.append(file[-10:-4])\n",
    "    sim = remove_duplicates(simt)\n",
    "    sim = [s.replace('pp_', '') for s in sim]\n",
    "    sim = [s.replace('p_', '') for s in sim]\n",
    "    for i in range(0,len(sim)):\n",
    "        print \"Trabajando en sim: \"+str(sim[i])\n",
    "        pp = pd.read_csv(\"pp_\"+str(sim[i])+\".csv\", sep=\",\", index_col='Unnamed: 0')\n",
    "        tt = pd.read_csv(\"tprom_\"+str(sim[i])+\".csv\", sep=\",\", index_col='Unnamed: 0')\n",
    "        #archivo de pp\n",
    "        precipitacionesfile = open(pathdatosWEAP+'/'+'PrecCuencasAltasb.csv', 'w')\n",
    "        tempfile = open(pathdatosWEAP+'/'+'TempCuencasAltas.csv', 'w')\n",
    "        #generamos el formato weap\n",
    "        precipitaciones = [str(ListSeparator)]\n",
    "        temperatura = []\n",
    "        #para precipitaciones\n",
    "        for k in range(0,len(pp)):\n",
    "            year = pd.DatetimeIndex(pp.iloc[[k]].index).year\n",
    "            month = pd.DatetimeIndex(pp.iloc[[k]].index).month\n",
    "            #CUIDADO: se debe modificar por el orden de las estaciones, estaciones modelo weap limari\n",
    "            '''|  año  |  mes  |    2005  | 0 | 0 |     2003    |     2010  |||     2001  | 0 |        2009      |      2006      |||   2002  |    2007   |     2004   ||'''\n",
    "            precipitaciones.append(','.join([str(year[0]),str(month[0]),str(pp['2005'][k]),str(0),str(0),str(pp['2003'][k]),str(pp['2010'][k]),str(pp['2001'][k]),str(0),str(pp['2009'][k]),str(pp['2006'][k]),str(pp['2002'][k]),str(pp['2007'][k]),str(pp['2004'][k])]))\n",
    "        for item in precipitaciones:\n",
    "            precipitacionesfile.write(\"%s\\n\" % item)\n",
    "        precipitacionesfile.close()\n",
    "        #para temperatura, se hacen de forma separada porque la temperatura empieza en 1970\n",
    "        #generamos una mascara para usar informacion desde 1970-05 como en archivo TempCuencasAltas\n",
    "        mask = (tt.index > \"1970-04-31\")\n",
    "        tt2 = tt[mask]\n",
    "        for j in range(0,len(tt2)):\n",
    "            year = pd.DatetimeIndex(tt2.iloc[[j]].index).year\n",
    "            month = pd.DatetimeIndex(tt2.iloc[[j]].index).month\n",
    "            #CUIDADO: se debe modificar por el orden de las estaciones\n",
    "            temperatura.append(','.join([str(year[0]),str(month[0]),str(tt2['2003'][j]),str(tt2['2006'][j])]))\n",
    "        for item in temperatura:\n",
    "            tempfile.write(\"%s\\n\" % item)\n",
    "        tempfile.close()\n",
    "        ########modificar WEAP.EndYear=2080 por valor necesario##############################################\n",
    "        #forzamos WEAP 2080:\n",
    "        WEAP.EndYear=2080\n",
    "        #volvemos a forzar 2080 con el calculo -Verificar en modelo-\n",
    "        WEAP.Calculate(2080) #Empieza a calcular\n",
    "        SALIDA = salidaweap+\"/\"+percentiles[nn]+\"/\"+str(sim[i])+\"Resultado.csv\"\n",
    "        WEAP.ExportResults(SALIDA,False)"
   ]
  },
  {
   "cell_type": "code",
   "execution_count": 55,
   "metadata": {},
   "outputs": [
    {
     "name": "stdout",
     "output_type": "stream",
     "text": [
      "[]\n"
     ]
    }
   ],
   "source": [
    "#procesamiento de salida WEAP\n",
    "os.chdir(salidaweap)\n",
    "simt = []\n",
    "for file in glob.glob(\"*Resultado.csv\"):\n",
    "    simt.append(file[0:-13])\n",
    "sim = remove_duplicates(simt)\n",
    "sim = [s.replace('pp_', '') for s in sim]\n",
    "sim = [s.replace('p_', '') for s in sim]\n",
    "print sim"
   ]
  },
  {
   "cell_type": "code",
   "execution_count": 54,
   "metadata": {},
   "outputs": [
    {
     "ename": "IndexError",
     "evalue": "list index out of range",
     "output_type": "error",
     "traceback": [
      "\u001b[0;31m---------------------------------------------------------------------------\u001b[0m",
      "\u001b[0;31mIndexError\u001b[0m                                Traceback (most recent call last)",
      "\u001b[0;32m<ipython-input-54-5003844cdd3a>\u001b[0m in \u001b[0;36m<module>\u001b[0;34m()\u001b[0m\n\u001b[0;32m----> 1\u001b[0;31m \u001b[0mresultado\u001b[0m \u001b[1;33m=\u001b[0m \u001b[0mpd\u001b[0m\u001b[1;33m.\u001b[0m\u001b[0mread_csv\u001b[0m\u001b[1;33m(\u001b[0m\u001b[0mstr\u001b[0m\u001b[1;33m(\u001b[0m\u001b[0msim\u001b[0m\u001b[1;33m[\u001b[0m\u001b[1;36m0\u001b[0m\u001b[1;33m]\u001b[0m\u001b[1;33m)\u001b[0m\u001b[1;33m+\u001b[0m\u001b[1;34m'Resultado.csv'\u001b[0m\u001b[1;33m,\u001b[0m \u001b[0msep\u001b[0m\u001b[1;33m=\u001b[0m\u001b[1;34m\",\"\u001b[0m\u001b[1;33m,\u001b[0m \u001b[0mskiprows\u001b[0m\u001b[1;33m=\u001b[0m\u001b[1;36m1\u001b[0m\u001b[1;33m,\u001b[0m \u001b[0mheader\u001b[0m\u001b[1;33m=\u001b[0m\u001b[0mNone\u001b[0m\u001b[1;33m)\u001b[0m\u001b[1;33m\u001b[0m\u001b[0m\n\u001b[0m\u001b[1;32m      2\u001b[0m \u001b[0mresultado\u001b[0m \u001b[1;33m=\u001b[0m \u001b[0mresultado\u001b[0m\u001b[1;33m.\u001b[0m\u001b[0mT\u001b[0m\u001b[1;33m\u001b[0m\u001b[0m\n\u001b[1;32m      3\u001b[0m \u001b[0mresultado\u001b[0m \u001b[1;33m=\u001b[0m \u001b[0mresultado\u001b[0m\u001b[1;33m.\u001b[0m\u001b[0mrename\u001b[0m\u001b[1;33m(\u001b[0m\u001b[0mcolumns\u001b[0m\u001b[1;33m=\u001b[0m\u001b[1;33m{\u001b[0m\u001b[1;36m0\u001b[0m\u001b[1;33m:\u001b[0m \u001b[1;34m'Embalse-Cogoti'\u001b[0m\u001b[1;33m,\u001b[0m \u001b[1;36m1\u001b[0m\u001b[1;33m:\u001b[0m \u001b[1;34m'Embalse-Paloma'\u001b[0m\u001b[1;33m,\u001b[0m \u001b[1;36m2\u001b[0m\u001b[1;33m:\u001b[0m \u001b[1;34m'Embalse-Recoleta'\u001b[0m\u001b[1;33m}\u001b[0m\u001b[1;33m)\u001b[0m\u001b[1;33m\u001b[0m\u001b[0m\n\u001b[1;32m      4\u001b[0m \u001b[0mresultado\u001b[0m \u001b[1;33m=\u001b[0m \u001b[0mresultado\u001b[0m\u001b[1;33m[\u001b[0m\u001b[1;36m1\u001b[0m\u001b[1;33m:\u001b[0m\u001b[1;33m]\u001b[0m\u001b[1;33m\u001b[0m\u001b[0m\n\u001b[1;32m      5\u001b[0m \u001b[1;32mdel\u001b[0m \u001b[0mresultado\u001b[0m\u001b[1;33m[\u001b[0m\u001b[1;36m3\u001b[0m\u001b[1;33m]\u001b[0m\u001b[1;33m\u001b[0m\u001b[0m\n",
      "\u001b[0;31mIndexError\u001b[0m: list index out of range"
     ]
    }
   ],
   "source": [
    "#generar resultados\n",
    "resultado = pd.read_csv(str(sim[0])+'Resultado.csv', sep=\",\", skiprows=1, header=None)\n",
    "resultado = resultado.T\n",
    "resultado = resultado.rename(columns={0: 'Embalse-Cogoti', 1: 'Embalse-Paloma', 2: 'Embalse-Recoleta'})\n",
    "resultado = resultado[1:]\n",
    "del resultado[3]\n",
    "resultado.index = pd.date_range('05/01/1970', periods=len(resultado), freq='M')\n",
    "print sim[0]\n",
    "resultado.astype(int).resample('A').mean().mean()/1000000"
   ]
  },
  {
   "cell_type": "code",
   "execution_count": null,
   "metadata": {
    "collapsed": true
   },
   "outputs": [],
   "source": []
  }
 ],
 "metadata": {
  "anaconda-cloud": {},
  "kernelspec": {
   "display_name": "Python 2",
   "language": "python",
   "name": "python2"
  },
  "language_info": {
   "codemirror_mode": {
    "name": "ipython",
    "version": 2
   },
   "file_extension": ".py",
   "mimetype": "text/x-python",
   "name": "python",
   "nbconvert_exporter": "python",
   "pygments_lexer": "ipython2",
   "version": "2.7.14"
  }
 },
 "nbformat": 4,
 "nbformat_minor": 1
}
