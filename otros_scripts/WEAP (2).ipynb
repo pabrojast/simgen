{
 "cells": [
  {
   "cell_type": "code",
   "execution_count": 2,
   "metadata": {},
   "outputs": [
    {
     "data": {
      "text/plain": [
       "' NOTA, LAS ESTACIONES DEBEN ESTAR EN EL SIGUIENTE ORDEN\\n\"caren.csv_formateado.csv\" 2000\\n\"cogoti18.csv_formateado.csv\" 2001\\n\"eltome.csv_formateado.csv\" 2002\\n\"lasramadas.csv_formateado.csv\" 2003\\n\"OvalleDGA.csv_formateado.csv\" 2004\\n\"pabellon.csv_formateado.csv\" 2005\\n\"palomaembalse.csv_formateado.csv\" 2006\\n\"punitaqui.csv_formateado.csv\" 2007\\n\"rapel.csv_formateado.csv\" 2008\\n\"recoletaembalse.csv_formateado.csv\" 2009\\n\"tascadero.csv_formateado.csv\" 2010\\n\"caren.csv_formateado.csv\" 2000\\n\"cogoti18.csv_formateado.csv\" 2001\\n\"eltome.csv_formateado.csv\" 2002\\n\"lasramadas.csv_formateado.csv\" 2003\\n\"OvalleDGA.csv_formateado.csv\" 2004\\n\"pabellon.csv_formateado.csv\" 2005\\n\"palomaembalse.csv_formateado.csv\" 2006\\n\"punitaqui.csv_formateado.csv\" 2007\\n\"rapel.csv_formateado.csv\" 2008\\n\"recoletaembalse.csv_formateado.csv\" 2009\\n\"tascadero.csv_formateado.csv\" 2010\\n'"
      ]
     },
     "execution_count": 2,
     "metadata": {},
     "output_type": "execute_result"
    }
   ],
   "source": [
    "import win32com.client #Libreria para poder usar win32com\n",
    "import numpy as np\n",
    "import glob, os\n",
    "import pandas as pd\n",
    "import matplotlib.pyplot as plt\n",
    "import re\n",
    "#funcion que elimina duplicados\n",
    "def remove_duplicates(l):\n",
    "    return list(set(l))\n",
    "''' NOTA, LAS ESTACIONES DEBEN ESTAR EN EL SIGUIENTE ORDEN\n",
    "\"caren.csv_formateado.csv\" 2000\n",
    "\"cogoti18.csv_formateado.csv\" 2001\n",
    "\"eltome.csv_formateado.csv\" 2002\n",
    "\"lasramadas.csv_formateado.csv\" 2003\n",
    "\"OvalleDGA.csv_formateado.csv\" 2004\n",
    "\"pabellon.csv_formateado.csv\" 2005\n",
    "\"palomaembalse.csv_formateado.csv\" 2006\n",
    "\"punitaqui.csv_formateado.csv\" 2007\n",
    "\"rapel.csv_formateado.csv\" 2008\n",
    "\"recoletaembalse.csv_formateado.csv\" 2009\n",
    "\"tascadero.csv_formateado.csv\" 2010\n",
    "\"caren.csv_formateado.csv\" 2000\n",
    "\"cogoti18.csv_formateado.csv\" 2001\n",
    "\"eltome.csv_formateado.csv\" 2002\n",
    "\"lasramadas.csv_formateado.csv\" 2003\n",
    "\"OvalleDGA.csv_formateado.csv\" 2004\n",
    "\"pabellon.csv_formateado.csv\" 2005\n",
    "\"palomaembalse.csv_formateado.csv\" 2006\n",
    "\"punitaqui.csv_formateado.csv\" 2007\n",
    "\"rapel.csv_formateado.csv\" 2008\n",
    "\"recoletaembalse.csv_formateado.csv\" 2009\n",
    "\"tascadero.csv_formateado.csv\" 2010\n",
    "'''"
   ]
  },
  {
   "cell_type": "code",
   "execution_count": 7,
   "metadata": {},
   "outputs": [],
   "source": [
    "###config###\n",
    "#path: directorio con archivos en formato para weap, sin / al final\n",
    "#cambiar 25 por el percentil que se desee calcular\n",
    "#pathdatosWEAP: directorio de datos de WEAP, sin / al final\n",
    "path = \"C:/Users/Pablo/Dropbox/cazalac/simgen_v3/output_sim/mensual/50\"\n",
    "pathdatosWEAP = \"C:/Users/Pablo/Documents/WEAP Areas/Cuenca del Limari_V1/Datos\"\n",
    "salidaweap =\"C:/Users/Pablo/Desktop/WEAP/salida\"\n",
    "#abrir weap\n",
    "WEAP=win32com.client.Dispatch(\"WEAP.WEAPApplication\")\n",
    "#modelo\n",
    "WEAP.ActiveArea = \"Cuenca del Limari_V1\"\n",
    "#inicio de archivo de weap\n",
    "ListSeparator='$ListSeparator=,'\n",
    "#fin de calculo\n",
    "os.chdir(path)"
   ]
  },
  {
   "cell_type": "code",
   "execution_count": 8,
   "metadata": {
    "scrolled": true
   },
   "outputs": [
    {
     "name": "stdout",
     "output_type": "stream",
     "text": [
      "Trabajando en sim: 795\n",
      "Trabajando en sim: 1861\n",
      "Trabajando en sim: 1014\n",
      "Trabajando en sim: 688\n",
      "Trabajando en sim: 1771\n"
     ]
    }
   ],
   "source": [
    "#generamos una nueva lista\n",
    "simt=[]\n",
    "fix=1 #para generar el index con el primer archivo\n",
    "#usamos las pp para generar el index\n",
    "for file in glob.glob(\"pp_*.csv\"):\n",
    "    simt.append(file[-10:-4])\n",
    "sim = remove_duplicates(simt)\n",
    "sim = [s.replace('pp_', '') for s in sim]\n",
    "sim = [s.replace('p_', '') for s in sim]\n",
    "for i in range(0,len(sim)):\n",
    "    print \"Trabajando en sim: \"+str(sim[i])\n",
    "    pp = pd.read_csv(\"pp_\"+str(sim[i])+\".csv\", sep=\",\", index_col='Unnamed: 0')\n",
    "    tt = pd.read_csv(\"tprom_\"+str(sim[i])+\".csv\", sep=\",\", index_col='Unnamed: 0')\n",
    "    #archivo de pp\n",
    "    precipitacionesfile = open(pathdatosWEAP+'/'+'PrecCuencasAltasb.csv', 'w')\n",
    "    tempfile = open(pathdatosWEAP+'/'+'TempCuencasAltas.csv', 'w')\n",
    "    #generamos el formato weap\n",
    "    precipitaciones = [str(ListSeparator)]\n",
    "    temperatura = []\n",
    "    #para precipitaciones\n",
    "    for k in range(0,len(pp)):\n",
    "        year = pd.DatetimeIndex(pp.iloc[[k]].index).year\n",
    "        month = pd.DatetimeIndex(pp.iloc[[k]].index).month\n",
    "        #CUIDADO: se debe modificar por el orden de las estaciones, estaciones modelo weap limari\n",
    "        '''|  año  |  mes  |    2005  | 0 | 0 |     2003    |     2010  |||     2001  | 0 |        2009      |      2006      |||   2002  |    2007   |     2004   ||'''\n",
    "        precipitaciones.append(','.join([str(year[0]),str(month[0]),str(pp['2005'][k]),str(0),str(0),str(pp['2003'][k]),str(pp['2010'][k]),str(pp['2001'][k]),str(0),str(pp['2009'][k]),str(pp['2006'][k]),str(pp['2002'][k]),str(pp['2007'][k]),str(pp['2004'][k])]))\n",
    "    for item in precipitaciones:\n",
    "        precipitacionesfile.write(\"%s\\n\" % item)\n",
    "    precipitacionesfile.close()\n",
    "    #para temperatura, se hacen de forma separada porque la temperatura empieza en 1970\n",
    "    #generamos una mascara para usar informacion desde 1970-05 como en archivo TempCuencasAltas\n",
    "    mask = (tt.index > \"1970-04-31\")\n",
    "    tt2 = tt[mask]\n",
    "    for j in range(0,len(tt2)):\n",
    "        year = pd.DatetimeIndex(tt2.iloc[[j]].index).year\n",
    "        month = pd.DatetimeIndex(tt2.iloc[[j]].index).month\n",
    "        #CUIDADO: se debe modificar por el orden de las estaciones\n",
    "        temperatura.append(','.join([str(year[0]),str(month[0]),str(tt2['2003'][j]),str(tt2['2006'][j])]))\n",
    "    for item in temperatura:\n",
    "        tempfile.write(\"%s\\n\" % item)\n",
    "    tempfile.close()\n",
    "    ########modificar WEAP.EndYear=2080 por valor necesario##############################################\n",
    "    #forzamos WEAP 2080:\n",
    "    WEAP.EndYear=2080\n",
    "    #volvemos a forzar 2080 con el calculo -Verificar en modelo-\n",
    "    WEAP.Calculate(2080) #Empieza a calcular\n",
    "    SALIDA = salidaweap+\"/\"+str(sim[i])+\"Resultado.csv\"\n",
    "    WEAP.ExportResults(SALIDA,False)\n",
    "\n",
    "SALIDA = str(salidaweap)+\"/\"+str(sim[i])+\"Resultado.csv\""
   ]
  },
  {
   "cell_type": "code",
   "execution_count": 11,
   "metadata": {},
   "outputs": [
    {
     "name": "stdout",
     "output_type": "stream",
     "text": [
      "['795', '1771', '1861', '1493', '688', '1014']\n"
     ]
    }
   ],
   "source": [
    "#procesamiento de salida WEAP\n",
    "os.chdir(salidaweap)\n",
    "simt = []\n",
    "for file in glob.glob(\"*Resultado.csv\"):\n",
    "    simt.append(file[0:-13])\n",
    "sim = remove_duplicates(simt)\n",
    "sim = [s.replace('pp_', '') for s in sim]\n",
    "sim = [s.replace('p_', '') for s in sim]\n",
    "print sim"
   ]
  },
  {
   "cell_type": "code",
   "execution_count": 30,
   "metadata": {},
   "outputs": [
    {
     "name": "stdout",
     "output_type": "stream",
     "text": [
      "795\n"
     ]
    },
    {
     "data": {
      "text/plain": [
       "Embalse-Cogoti       55.502125\n",
       "Embalse-Paloma      361.816936\n",
       "Embalse-Recoleta     39.936862\n",
       "dtype: float64"
      ]
     },
     "execution_count": 30,
     "metadata": {},
     "output_type": "execute_result"
    }
   ],
   "source": [
    "resultado = pd.read_csv(str(sim[0])+'Resultado.csv', sep=\",\", skiprows=1, header=None)\n",
    "resultado = resultado.T\n",
    "resultado = resultado.rename(columns={0: 'Embalse-Cogoti', 1: 'Embalse-Paloma', 2: 'Embalse-Recoleta'})\n",
    "resultado = resultado[1:]\n",
    "del resultado[3]\n",
    "resultado.index = pd.date_range('05/01/1970', periods=len(resultado), freq='M')\n",
    "print sim[0]\n",
    "resultado.astype(int).resample('A').mean().mean()/1000000"
   ]
  },
  {
   "cell_type": "code",
   "execution_count": 48,
   "metadata": {
    "scrolled": true
   },
   "outputs": [
    {
     "name": "stdout",
     "output_type": "stream",
     "text": [
      "Trabajando en sim: 795\n",
      "precipitacion,temperatura 2015\n",
      "172.177373737,16.86789932\n",
      "precipitacion,temperatura 2015-2090\n",
      "163.376242424,21.1530825897\n",
      "Trabajando en sim: 1861\n",
      "precipitacion,temperatura 2015\n",
      "171.677575758,16.8911204829\n",
      "precipitacion,temperatura 2015-2090\n",
      "164.638424242,21.1388737889\n",
      "Trabajando en sim: 1014\n",
      "precipitacion,temperatura 2015\n",
      "172.696363636,16.8716740164\n",
      "precipitacion,temperatura 2015-2090\n",
      "161.744848485,21.1494105354\n",
      "Trabajando en sim: 688\n",
      "precipitacion,temperatura 2015\n",
      "173.206262626,16.8610682034\n",
      "precipitacion,temperatura 2015-2090\n",
      "164.664606061,21.1575554384\n",
      "Trabajando en sim: 1771\n",
      "precipitacion,temperatura 2015\n",
      "172.317777778,16.8790670361\n",
      "precipitacion,temperatura 2015-2090\n",
      "161.845333333,21.1460792548\n"
     ]
    }
   ],
   "source": [
    "#procesamiento de salida Simgen\n",
    "os.chdir(path)\n",
    "simt = []\n",
    "for file in glob.glob(\"pp_*.csv\"):\n",
    "    simt.append(file[-10:-4])\n",
    "sim = remove_duplicates(simt)\n",
    "sim = [s.replace('pp_', '') for s in sim]\n",
    "sim = [s.replace('p_', '') for s in sim]\n",
    "for i in range(0,len(sim)):\n",
    "    print \"Trabajando en sim: \"+str(sim[i])\n",
    "    pp = pd.read_csv(\"pp_\"+str(sim[i])+\".csv\", sep=\",\")\n",
    "    pp.index = pd.date_range('01/31/1969', periods=len(pp), freq='M')\n",
    "    tt = pd.read_csv(\"tprom_\"+str(sim[i])+\".csv\", sep=\",\")\n",
    "    tt.index = pd.date_range('01/31/1969', periods=len(tt), freq='M')\n",
    "    del pp['Unnamed: 0'] \n",
    "    del tt['Unnamed: 0'] \n",
    "    #archivo de pp\n",
    "    #mask = (pp.index > '1971-01-01') & (pp.index < '1985-01-01')\n",
    "    mask1 = (pp.index > '1971-01-01') & (pp.index < '12-31-2015')\n",
    "    mask2 = (tt.index > '1971-01-01') & (tt.index < '12-31-2015')\n",
    "    mask11 = pp.index > '12-31-2015'\n",
    "    mask22 = tt.index > '12-31-2015'\n",
    "    print str(\"precipitacion,temperatura 2015\")\n",
    "    print str(pp[mask1].resample('A').sum().mean().mean())+\",\"+str(tt[mask2].resample('A').mean().mean().mean())\n",
    "    print str(\"precipitacion,temperatura 2015-2090\")\n",
    "    print str(pp[mask11].resample('A').sum().mean().mean())+\",\"+str(tt[mask22].resample('A').mean().mean().mean())"
   ]
  },
  {
   "cell_type": "code",
   "execution_count": null,
   "metadata": {
    "collapsed": true
   },
   "outputs": [],
   "source": [
    "\n",
    "'''formato weap pp\n",
    "Columna  |  1  |  2  |    3     | 4 | 5 |     6       |     7     ||\n",
    "Estación | Año | Mes | Pabellón | ? | ? | Las Ramadas | Tascadero ||\n",
    "Columna  |     8     | 9 |        10        |      11        ||\n",
    "Estación | Cogotí 18 | ? | Recoleta Embalse | Paloma Embalse ||\n",
    "Columna  |   12    |    13     |     14     ||\n",
    "Estación | El Tomé | Punitaqui | Ovalle DGA ||\n",
    "'''\n",
    "'''formato weap temp\n",
    "Columna  |  1  |  2  |      3      |       4        ||\n",
    "Estación | Año | Mes | Las Ramadas | Paloma Embalse ||\n",
    "'''"
   ]
  },
  {
   "cell_type": "code",
   "execution_count": null,
   "metadata": {
    "collapsed": true
   },
   "outputs": [],
   "source": []
  }
 ],
 "metadata": {
  "anaconda-cloud": {},
  "kernelspec": {
   "display_name": "Python 2",
   "language": "python",
   "name": "python2"
  },
  "language_info": {
   "codemirror_mode": {
    "name": "ipython",
    "version": 2
   },
   "file_extension": ".py",
   "mimetype": "text/x-python",
   "name": "python",
   "nbconvert_exporter": "python",
   "pygments_lexer": "ipython2",
   "version": "2.7.14"
  }
 },
 "nbformat": 4,
 "nbformat_minor": 1
}
