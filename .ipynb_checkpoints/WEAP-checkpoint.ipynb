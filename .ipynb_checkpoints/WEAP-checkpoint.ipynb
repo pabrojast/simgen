{
 "cells": [
  {
   "cell_type": "code",
   "execution_count": 1,
   "metadata": {
    "collapsed": false
   },
   "outputs": [
    {
     "data": {
      "text/plain": [
       "' NOTA, LAS ESTACIONES DEBEN ESTAR EN EL SIGUIENTE ORDEN\\n\"caren.csv_formateado.csv\" 2000\\n\"cogoti18.csv_formateado.csv\" 2001\\n\"eltome.csv_formateado.csv\" 2002\\n\"lasramadas.csv_formateado.csv\" 2003\\n\"OvalleDGA.csv_formateado.csv\" 2004\\n\"pabellon.csv_formateado.csv\" 2005\\n\"palomaembalse.csv_formateado.csv\" 2006\\n\"punitaqui.csv_formateado.csv\" 2007\\n\"rapel.csv_formateado.csv\" 2008\\n\"recoletaembalse.csv_formateado.csv\" 2009\\n\"tascadero.csv_formateado.csv\" 2010\\n\"caren.csv_formateado.csv\" 2000\\n\"cogoti18.csv_formateado.csv\" 2001\\n\"eltome.csv_formateado.csv\" 2002\\n\"lasramadas.csv_formateado.csv\" 2003\\n\"OvalleDGA.csv_formateado.csv\" 2004\\n\"pabellon.csv_formateado.csv\" 2005\\n\"palomaembalse.csv_formateado.csv\" 2006\\n\"punitaqui.csv_formateado.csv\" 2007\\n\"rapel.csv_formateado.csv\" 2008\\n\"recoletaembalse.csv_formateado.csv\" 2009\\n\"tascadero.csv_formateado.csv\" 2010\\n'"
      ]
     },
     "execution_count": 1,
     "metadata": {},
     "output_type": "execute_result"
    }
   ],
   "source": [
    "import win32com.client #Libreria para poder usar win32com\n",
    "import numpy as np\n",
    "import glob, os\n",
    "import pandas as pd\n",
    "import matplotlib.pyplot as plt\n",
    "import re\n",
    "#funcion que elimina duplicados\n",
    "def remove_duplicates(l):\n",
    "    return list(set(l))\n",
    "''' NOTA, LAS ESTACIONES DEBEN ESTAR EN EL SIGUIENTE ORDEN\n",
    "\"caren.csv_formateado.csv\" 2000\n",
    "\"cogoti18.csv_formateado.csv\" 2001\n",
    "\"eltome.csv_formateado.csv\" 2002\n",
    "\"lasramadas.csv_formateado.csv\" 2003\n",
    "\"OvalleDGA.csv_formateado.csv\" 2004\n",
    "\"pabellon.csv_formateado.csv\" 2005\n",
    "\"palomaembalse.csv_formateado.csv\" 2006\n",
    "\"punitaqui.csv_formateado.csv\" 2007\n",
    "\"rapel.csv_formateado.csv\" 2008\n",
    "\"recoletaembalse.csv_formateado.csv\" 2009\n",
    "\"tascadero.csv_formateado.csv\" 2010\n",
    "\"caren.csv_formateado.csv\" 2000\n",
    "\"cogoti18.csv_formateado.csv\" 2001\n",
    "\"eltome.csv_formateado.csv\" 2002\n",
    "\"lasramadas.csv_formateado.csv\" 2003\n",
    "\"OvalleDGA.csv_formateado.csv\" 2004\n",
    "\"pabellon.csv_formateado.csv\" 2005\n",
    "\"palomaembalse.csv_formateado.csv\" 2006\n",
    "\"punitaqui.csv_formateado.csv\" 2007\n",
    "\"rapel.csv_formateado.csv\" 2008\n",
    "\"recoletaembalse.csv_formateado.csv\" 2009\n",
    "\"tascadero.csv_formateado.csv\" 2010\n",
    "'''"
   ]
  },
  {
   "cell_type": "code",
   "execution_count": 2,
   "metadata": {
    "collapsed": false
   },
   "outputs": [],
   "source": [
    "###config###\n",
    "#path: directorio con archivos en formato para weap, sin / al final\n",
    "#pathdatosWEAP: directorio de datos de WEAP, sin / al final\n",
    "path = \"C:\\Users\\Pablo\\Dropbox\\cazalac\\simgen_v2\\output_sim\\mensual\"\n",
    "pathdatosWEAP = \"C:\\Users\\Pablo\\Documents\\WEAP Areas\\Cuenca del Limari_V1\\Datos\"\n",
    "salidaweap =\"C:/Users/Pablo/Desktop/WEAP/salida\"\n",
    "#abrir weap\n",
    "WEAP=win32com.client.Dispatch(\"WEAP.WEAPApplication\")\n",
    "#modelo\n",
    "WEAP.ActiveArea = \"Cuenca del Limari_V1\"\n",
    "#inicio de archivo de weap\n",
    "ListSeparator='$ListSeparator=,'\n",
    "#fin de calculo\n",
    "os.chdir(path)"
   ]
  },
  {
   "cell_type": "code",
   "execution_count": 71,
   "metadata": {
    "collapsed": false
   },
   "outputs": [
    {
     "name": "stdout",
     "output_type": "stream",
     "text": [
      "Trabajando en sim: 9839\n",
      "Trabajando en sim: 7595\n",
      "Trabajando en sim: 2376\n",
      "Trabajando en sim: 1453\n",
      "Trabajando en sim: 6117\n",
      "Trabajando en sim: 3408\n",
      "Trabajando en sim: 992\n",
      "Trabajando en sim: 1397\n",
      "Trabajando en sim: 2139\n",
      "Trabajando en sim: 3403\n",
      "Trabajando en sim: 872\n",
      "Trabajando en sim: 852\n",
      "Trabajando en sim: 9899\n"
     ]
    },
    {
     "ename": "KeyboardInterrupt",
     "evalue": "",
     "output_type": "error",
     "traceback": [
      "\u001b[0;31m---------------------------------------------------------------------------\u001b[0m",
      "\u001b[0;31mKeyboardInterrupt\u001b[0m                         Traceback (most recent call last)",
      "\u001b[0;32m<ipython-input-71-dcb02b07c591>\u001b[0m in \u001b[0;36m<module>\u001b[0;34m()\u001b[0m\n\u001b[1;32m     44\u001b[0m     \u001b[0mWEAP\u001b[0m\u001b[1;33m.\u001b[0m\u001b[0mEndYear\u001b[0m\u001b[1;33m=\u001b[0m\u001b[1;36m2080\u001b[0m\u001b[1;33m\u001b[0m\u001b[0m\n\u001b[1;32m     45\u001b[0m     \u001b[1;31m#volvemos a forzar 2080 con el calculo -Verificar en modelo-\u001b[0m\u001b[1;33m\u001b[0m\u001b[1;33m\u001b[0m\u001b[0m\n\u001b[0;32m---> 46\u001b[0;31m     \u001b[0mWEAP\u001b[0m\u001b[1;33m.\u001b[0m\u001b[0mCalculate\u001b[0m\u001b[1;33m(\u001b[0m\u001b[1;36m2080\u001b[0m\u001b[1;33m)\u001b[0m \u001b[1;31m#Empieza a calcular\u001b[0m\u001b[1;33m\u001b[0m\u001b[0m\n\u001b[0m\u001b[1;32m     47\u001b[0m     \u001b[0mSALIDA\u001b[0m \u001b[1;33m=\u001b[0m \u001b[0msalidaweap\u001b[0m\u001b[1;33m+\u001b[0m\u001b[1;34m\"/\"\u001b[0m\u001b[1;33m+\u001b[0m\u001b[0mstr\u001b[0m\u001b[1;33m(\u001b[0m\u001b[0msim\u001b[0m\u001b[1;33m[\u001b[0m\u001b[0mi\u001b[0m\u001b[1;33m]\u001b[0m\u001b[1;33m)\u001b[0m\u001b[1;33m+\u001b[0m\u001b[1;34m\"Resultado.csv\"\u001b[0m\u001b[1;33m\u001b[0m\u001b[0m\n\u001b[1;32m     48\u001b[0m     \u001b[0mWEAP\u001b[0m\u001b[1;33m.\u001b[0m\u001b[0mExportResults\u001b[0m\u001b[1;33m(\u001b[0m\u001b[0mSALIDA\u001b[0m\u001b[1;33m,\u001b[0m\u001b[0mFalse\u001b[0m\u001b[1;33m)\u001b[0m\u001b[1;33m\u001b[0m\u001b[0m\n",
      "\u001b[0;32mC:\\Users\\Pablo\\Anaconda2\\lib\\site-packages\\win32com\\client\\dynamic.pyc\u001b[0m in \u001b[0;36mCalculate\u001b[0;34m(self, LastYear, LastTS, AlwaysCalculate, CalledFromLEAP)\u001b[0m\n",
      "\u001b[0;31mKeyboardInterrupt\u001b[0m: "
     ]
    }
   ],
   "source": [
    "#generamos una nueva lista\n",
    "simt=[]\n",
    "fix=1 #para generar el index con el primer archivo\n",
    "#usamos las pp para generar el index\n",
    "for file in glob.glob(\"pp_*.csv\"):\n",
    "    simt.append(file[-10:-4])\n",
    "sim = remove_duplicates(simt)\n",
    "sim = [s.replace('pp_', '') for s in sim]\n",
    "sim = [s.replace('p_', '') for s in sim]\n",
    "for i in range(0,len(sim)):\n",
    "    print \"Trabajando en sim: \"+str(sim[i])\n",
    "    pp = pd.read_csv(\"pp_\"+str(sim[i])+\".csv\", sep=\",\", index_col='Unnamed: 0')\n",
    "    tt = pd.read_csv(\"tprom_\"+str(sim[i])+\".csv\", sep=\",\", index_col='Unnamed: 0')\n",
    "    #archivo de pp\n",
    "    precipitacionesfile = open(pathdatosWEAP+'/'+'PrecCuencasAltasb.csv', 'w')\n",
    "    tempfile = open(pathdatosWEAP+'/'+'TempCuencasAltas.csv', 'w')\n",
    "    #generamos el formato weap\n",
    "    precipitaciones = [str(ListSeparator)]\n",
    "    temperatura = []\n",
    "    #para precipitaciones\n",
    "    for k in range(0,len(pp)):\n",
    "        year = pd.DatetimeIndex(pp.iloc[[k]].index).year\n",
    "        month = pd.DatetimeIndex(pp.iloc[[k]].index).month\n",
    "        #CUIDADO: se debe modificar por el orden de las estaciones, estaciones modelo weap limari\n",
    "        '''|  año  |  mes  |    2005  | 0 | 0 |     2003    |     2010  |||     2001  | 0 |        2009      |      2006      |||   2002  |    2007   |     2004   ||'''\n",
    "        precipitaciones.append(','.join([str(year[0]),str(month[0]),str(pp['2005'][k]),str(0),str(0),str(pp['2003'][k]),str(pp['2010'][k]),str(pp['2001'][k]),str(0),str(pp['2009'][k]),str(pp['2006'][k]),str(pp['2002'][k]),str(pp['2007'][k]),str(pp['2004'][k])]))\n",
    "    for item in precipitaciones:\n",
    "        precipitacionesfile.write(\"%s\\n\" % item)\n",
    "    precipitacionesfile.close()\n",
    "    #para temperatura, se hacen de forma separada porque la temperatura empieza en 1970\n",
    "    #generamos una mascara para usar informacion desde 1970-05 como en archivo TempCuencasAltas\n",
    "    mask = (tt.index > \"1970-04-31\")\n",
    "    tt2 = tt[mask]\n",
    "    for j in range(0,len(tt2)):\n",
    "        year = pd.DatetimeIndex(tt2.iloc[[j]].index).year\n",
    "        month = pd.DatetimeIndex(tt2.iloc[[j]].index).month\n",
    "        #CUIDADO: se debe modificar por el orden de las estaciones\n",
    "        temperatura.append(','.join([str(year[0]),str(month[0]),str(tt2['2003'][j]),str(tt2['2006'][j])]))\n",
    "    for item in temperatura:\n",
    "        tempfile.write(\"%s\\n\" % item)\n",
    "    tempfile.close()\n",
    "    ########modificar WEAP.EndYear=2080 por valor necestario##############################################\n",
    "    #forzamos WEAP 2080:\n",
    "    WEAP.EndYear=2080\n",
    "    #volvemos a forzar 2080 con el calculo -Verificar en modelo-\n",
    "    WEAP.Calculate(2080) #Empieza a calcular\n",
    "    SALIDA = salidaweap+\"/\"+str(sim[i])+\"Resultado.csv\"\n",
    "    WEAP.ExportResults(SALIDA,False)\n",
    "\n",
    "SALIDA = str(salidaweap)+\"/\"+str(sim[i])+\"Resultado.csv\""
   ]
  },
  {
   "cell_type": "code",
   "execution_count": null,
   "metadata": {
    "collapsed": false
   },
   "outputs": [],
   "source": [
    "'''formato weap temp\n",
    "Columna  |  1  |  2  |      3      |       4        ||\n",
    "Estación | Año | Mes | Las Ramadas | Paloma Embalse ||\n",
    "'''"
   ]
  },
  {
   "cell_type": "code",
   "execution_count": null,
   "metadata": {
    "collapsed": false,
    "scrolled": true
   },
   "outputs": [],
   "source": [
    "'''formato weap pp\n",
    "Columna  |  1  |  2  |    3     | 4 | 5 |     6       |     7     ||\n",
    "Estación | Año | Mes | Pabellón | ? | ? | Las Ramadas | Tascadero ||\n",
    "Columna  |     8     | 9 |        10        |      11        ||\n",
    "Estación | Cogotí 18 | ? | Recoleta Embalse | Paloma Embalse ||\n",
    "Columna  |   12    |    13     |     14     ||\n",
    "Estación | El Tomé | Punitaqui | Ovalle DGA ||\n",
    "'''"
   ]
  },
  {
   "cell_type": "code",
   "execution_count": 66,
   "metadata": {
    "collapsed": false
   },
   "outputs": [
    {
     "name": "stdout",
     "output_type": "stream",
     "text": [
      "\n"
     ]
    }
   ],
   "source": [
    "print WEAP.Scenarios(1).Name"
   ]
  },
  {
   "cell_type": "code",
   "execution_count": null,
   "metadata": {
    "collapsed": true
   },
   "outputs": [],
   "source": [
    "\n"
   ]
  }
 ],
 "metadata": {
  "anaconda-cloud": {},
  "kernelspec": {
   "display_name": "Python [default]",
   "language": "python",
   "name": "python2"
  },
  "language_info": {
   "codemirror_mode": {
    "name": "ipython",
    "version": 2
   },
   "file_extension": ".py",
   "mimetype": "text/x-python",
   "name": "python",
   "nbconvert_exporter": "python",
   "pygments_lexer": "ipython2",
   "version": "2.7.12"
  }
 },
 "nbformat": 4,
 "nbformat_minor": 0
}
